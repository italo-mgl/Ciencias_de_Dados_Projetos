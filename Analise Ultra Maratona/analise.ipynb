{
 "cells": [
  {
   "cell_type": "code",
   "execution_count": 7,
   "metadata": {},
   "outputs": [],
   "source": [
    "import pandas as pd\n",
    "import numpy as np\n",
    "from statsmodels.stats.weightstats import ztest\n",
    "import scipy.stats\n",
    "from scipy.stats import skew, f_oneway, pearsonr, ttest_rel, chi2_contingency, spearmanr, shapiro\n",
    "import seaborn as sns\n",
    "import matplotlib.pyplot as plt"
   ]
  },
  {
   "cell_type": "markdown",
   "metadata": {},
   "source": [
    "## Importação da planilha"
   ]
  },
  {
   "cell_type": "code",
   "execution_count": 9,
   "metadata": {},
   "outputs": [],
   "source": [
    "file_path = './dataset/100miles.xlsx'"
   ]
  },
  {
   "cell_type": "code",
   "execution_count": 13,
   "metadata": {},
   "outputs": [],
   "source": [
    "data_2024 = pd.read_excel(file_path, sheet_name='2024')\n",
    "data_2023 = pd.read_excel(file_path, sheet_name='2023')\n"
   ]
  },
  {
   "cell_type": "code",
   "execution_count": 19,
   "metadata": {},
   "outputs": [
    {
     "data": {
      "text/html": [
       "<div>\n",
       "<style scoped>\n",
       "    .dataframe tbody tr th:only-of-type {\n",
       "        vertical-align: middle;\n",
       "    }\n",
       "\n",
       "    .dataframe tbody tr th {\n",
       "        vertical-align: top;\n",
       "    }\n",
       "\n",
       "    .dataframe thead th {\n",
       "        text-align: right;\n",
       "    }\n",
       "</style>\n",
       "<table border=\"1\" class=\"dataframe\">\n",
       "  <thead>\n",
       "    <tr style=\"text-align: right;\">\n",
       "      <th></th>\n",
       "      <th>Place</th>\n",
       "      <th>First_Name</th>\n",
       "      <th>Last_Name</th>\n",
       "      <th>City</th>\n",
       "      <th>State</th>\n",
       "      <th>Age</th>\n",
       "      <th>Gender</th>\n",
       "      <th>Time</th>\n",
       "    </tr>\n",
       "  </thead>\n",
       "  <tbody>\n",
       "    <tr>\n",
       "      <th>0</th>\n",
       "      <td>1</td>\n",
       "      <td>Mike</td>\n",
       "      <td>Alberts</td>\n",
       "      <td>Melbourne</td>\n",
       "      <td>FL</td>\n",
       "      <td>34</td>\n",
       "      <td>M</td>\n",
       "      <td>18:33:06</td>\n",
       "    </tr>\n",
       "    <tr>\n",
       "      <th>1</th>\n",
       "      <td>2</td>\n",
       "      <td>Matt</td>\n",
       "      <td>Clapper</td>\n",
       "      <td>NaN</td>\n",
       "      <td>USA</td>\n",
       "      <td>41</td>\n",
       "      <td>M</td>\n",
       "      <td>19:21:53</td>\n",
       "    </tr>\n",
       "    <tr>\n",
       "      <th>2</th>\n",
       "      <td>3</td>\n",
       "      <td>Sarah</td>\n",
       "      <td>Raaymakers</td>\n",
       "      <td>Odessa</td>\n",
       "      <td>FL</td>\n",
       "      <td>39</td>\n",
       "      <td>F</td>\n",
       "      <td>20:43:19</td>\n",
       "    </tr>\n",
       "  </tbody>\n",
       "</table>\n",
       "</div>"
      ],
      "text/plain": [
       "   Place First_Name   Last_Name       City State  Age Gender      Time\n",
       "0      1       Mike     Alberts  Melbourne    FL   34      M  18:33:06\n",
       "1      2       Matt     Clapper        NaN   USA   41      M  19:21:53\n",
       "2      3      Sarah  Raaymakers     Odessa    FL   39      F  20:43:19"
      ]
     },
     "execution_count": 19,
     "metadata": {},
     "output_type": "execute_result"
    }
   ],
   "source": [
    "data_2023.head(3)"
   ]
  },
  {
   "cell_type": "code",
   "execution_count": 20,
   "metadata": {},
   "outputs": [
    {
     "data": {
      "text/html": [
       "<div>\n",
       "<style scoped>\n",
       "    .dataframe tbody tr th:only-of-type {\n",
       "        vertical-align: middle;\n",
       "    }\n",
       "\n",
       "    .dataframe tbody tr th {\n",
       "        vertical-align: top;\n",
       "    }\n",
       "\n",
       "    .dataframe thead th {\n",
       "        text-align: right;\n",
       "    }\n",
       "</style>\n",
       "<table border=\"1\" class=\"dataframe\">\n",
       "  <thead>\n",
       "    <tr style=\"text-align: right;\">\n",
       "      <th></th>\n",
       "      <th>Place</th>\n",
       "      <th>First_Name</th>\n",
       "      <th>Last_Name</th>\n",
       "      <th>City</th>\n",
       "      <th>State</th>\n",
       "      <th>Age</th>\n",
       "      <th>Gender</th>\n",
       "      <th>Time</th>\n",
       "    </tr>\n",
       "  </thead>\n",
       "  <tbody>\n",
       "    <tr>\n",
       "      <th>0</th>\n",
       "      <td>1</td>\n",
       "      <td>Lucas</td>\n",
       "      <td>Vidal</td>\n",
       "      <td>Cape Coral</td>\n",
       "      <td>FL</td>\n",
       "      <td>38</td>\n",
       "      <td>M</td>\n",
       "      <td>19:43:00</td>\n",
       "    </tr>\n",
       "    <tr>\n",
       "      <th>1</th>\n",
       "      <td>2</td>\n",
       "      <td>Brandon</td>\n",
       "      <td>Westover</td>\n",
       "      <td>Orlando</td>\n",
       "      <td>FL</td>\n",
       "      <td>45</td>\n",
       "      <td>M</td>\n",
       "      <td>21:15:00</td>\n",
       "    </tr>\n",
       "    <tr>\n",
       "      <th>2</th>\n",
       "      <td>3</td>\n",
       "      <td>Lucas</td>\n",
       "      <td>Hathaway</td>\n",
       "      <td>Atlanta</td>\n",
       "      <td>GA</td>\n",
       "      <td>34</td>\n",
       "      <td>M</td>\n",
       "      <td>23:31:36</td>\n",
       "    </tr>\n",
       "    <tr>\n",
       "      <th>3</th>\n",
       "      <td>4</td>\n",
       "      <td>Sage</td>\n",
       "      <td>Lyons</td>\n",
       "      <td>Sarasota</td>\n",
       "      <td>FL</td>\n",
       "      <td>27</td>\n",
       "      <td>F</td>\n",
       "      <td>23:37:05</td>\n",
       "    </tr>\n",
       "  </tbody>\n",
       "</table>\n",
       "</div>"
      ],
      "text/plain": [
       "   Place First_Name Last_Name        City State  Age Gender      Time\n",
       "0      1      Lucas     Vidal  Cape Coral    FL   38      M  19:43:00\n",
       "1      2    Brandon  Westover     Orlando    FL   45      M  21:15:00\n",
       "2      3      Lucas  Hathaway     Atlanta    GA   34      M  23:31:36\n",
       "3      4       Sage     Lyons    Sarasota    FL   27      F  23:37:05"
      ]
     },
     "execution_count": 20,
     "metadata": {},
     "output_type": "execute_result"
    }
   ],
   "source": [
    "data_2024.head(4)"
   ]
  },
  {
   "cell_type": "markdown",
   "metadata": {},
   "source": [
    "## Limpeza dos dados"
   ]
  },
  {
   "cell_type": "code",
   "execution_count": 21,
   "metadata": {},
   "outputs": [],
   "source": [
    "data_2024['Full_name'] = data_2024['First_Name'] + ' ' + data_2024['Last_Name']"
   ]
  },
  {
   "cell_type": "code",
   "execution_count": 23,
   "metadata": {},
   "outputs": [
    {
     "data": {
      "text/html": [
       "<div>\n",
       "<style scoped>\n",
       "    .dataframe tbody tr th:only-of-type {\n",
       "        vertical-align: middle;\n",
       "    }\n",
       "\n",
       "    .dataframe tbody tr th {\n",
       "        vertical-align: top;\n",
       "    }\n",
       "\n",
       "    .dataframe thead th {\n",
       "        text-align: right;\n",
       "    }\n",
       "</style>\n",
       "<table border=\"1\" class=\"dataframe\">\n",
       "  <thead>\n",
       "    <tr style=\"text-align: right;\">\n",
       "      <th></th>\n",
       "      <th>Place</th>\n",
       "      <th>First_Name</th>\n",
       "      <th>Last_Name</th>\n",
       "      <th>City</th>\n",
       "      <th>State</th>\n",
       "      <th>Age</th>\n",
       "      <th>Gender</th>\n",
       "      <th>Time</th>\n",
       "      <th>Full_name</th>\n",
       "    </tr>\n",
       "  </thead>\n",
       "  <tbody>\n",
       "    <tr>\n",
       "      <th>0</th>\n",
       "      <td>1</td>\n",
       "      <td>Lucas</td>\n",
       "      <td>Vidal</td>\n",
       "      <td>Cape Coral</td>\n",
       "      <td>FL</td>\n",
       "      <td>38</td>\n",
       "      <td>M</td>\n",
       "      <td>19:43:00</td>\n",
       "      <td>Lucas Vidal</td>\n",
       "    </tr>\n",
       "    <tr>\n",
       "      <th>1</th>\n",
       "      <td>2</td>\n",
       "      <td>Brandon</td>\n",
       "      <td>Westover</td>\n",
       "      <td>Orlando</td>\n",
       "      <td>FL</td>\n",
       "      <td>45</td>\n",
       "      <td>M</td>\n",
       "      <td>21:15:00</td>\n",
       "      <td>Brandon Westover</td>\n",
       "    </tr>\n",
       "    <tr>\n",
       "      <th>2</th>\n",
       "      <td>3</td>\n",
       "      <td>Lucas</td>\n",
       "      <td>Hathaway</td>\n",
       "      <td>Atlanta</td>\n",
       "      <td>GA</td>\n",
       "      <td>34</td>\n",
       "      <td>M</td>\n",
       "      <td>23:31:36</td>\n",
       "      <td>Lucas Hathaway</td>\n",
       "    </tr>\n",
       "  </tbody>\n",
       "</table>\n",
       "</div>"
      ],
      "text/plain": [
       "   Place First_Name Last_Name        City State  Age Gender      Time  \\\n",
       "0      1      Lucas     Vidal  Cape Coral    FL   38      M  19:43:00   \n",
       "1      2    Brandon  Westover     Orlando    FL   45      M  21:15:00   \n",
       "2      3      Lucas  Hathaway     Atlanta    GA   34      M  23:31:36   \n",
       "\n",
       "          Full_name  \n",
       "0       Lucas Vidal  \n",
       "1  Brandon Westover  \n",
       "2    Lucas Hathaway  "
      ]
     },
     "execution_count": 23,
     "metadata": {},
     "output_type": "execute_result"
    }
   ],
   "source": [
    "data_2024.head(3)"
   ]
  },
  {
   "cell_type": "code",
   "execution_count": 22,
   "metadata": {},
   "outputs": [],
   "source": [
    "data_2023['Full_name'] = data_2023['First_Name'] + ' ' + data_2023['Last_Name']"
   ]
  },
  {
   "cell_type": "code",
   "execution_count": 24,
   "metadata": {},
   "outputs": [
    {
     "data": {
      "text/html": [
       "<div>\n",
       "<style scoped>\n",
       "    .dataframe tbody tr th:only-of-type {\n",
       "        vertical-align: middle;\n",
       "    }\n",
       "\n",
       "    .dataframe tbody tr th {\n",
       "        vertical-align: top;\n",
       "    }\n",
       "\n",
       "    .dataframe thead th {\n",
       "        text-align: right;\n",
       "    }\n",
       "</style>\n",
       "<table border=\"1\" class=\"dataframe\">\n",
       "  <thead>\n",
       "    <tr style=\"text-align: right;\">\n",
       "      <th></th>\n",
       "      <th>Place</th>\n",
       "      <th>First_Name</th>\n",
       "      <th>Last_Name</th>\n",
       "      <th>City</th>\n",
       "      <th>State</th>\n",
       "      <th>Age</th>\n",
       "      <th>Gender</th>\n",
       "      <th>Time</th>\n",
       "      <th>Full_name</th>\n",
       "    </tr>\n",
       "  </thead>\n",
       "  <tbody>\n",
       "    <tr>\n",
       "      <th>0</th>\n",
       "      <td>1</td>\n",
       "      <td>Mike</td>\n",
       "      <td>Alberts</td>\n",
       "      <td>Melbourne</td>\n",
       "      <td>FL</td>\n",
       "      <td>34</td>\n",
       "      <td>M</td>\n",
       "      <td>18:33:06</td>\n",
       "      <td>Mike Alberts</td>\n",
       "    </tr>\n",
       "    <tr>\n",
       "      <th>1</th>\n",
       "      <td>2</td>\n",
       "      <td>Matt</td>\n",
       "      <td>Clapper</td>\n",
       "      <td>NaN</td>\n",
       "      <td>USA</td>\n",
       "      <td>41</td>\n",
       "      <td>M</td>\n",
       "      <td>19:21:53</td>\n",
       "      <td>Matt Clapper</td>\n",
       "    </tr>\n",
       "    <tr>\n",
       "      <th>2</th>\n",
       "      <td>3</td>\n",
       "      <td>Sarah</td>\n",
       "      <td>Raaymakers</td>\n",
       "      <td>Odessa</td>\n",
       "      <td>FL</td>\n",
       "      <td>39</td>\n",
       "      <td>F</td>\n",
       "      <td>20:43:19</td>\n",
       "      <td>Sarah Raaymakers</td>\n",
       "    </tr>\n",
       "  </tbody>\n",
       "</table>\n",
       "</div>"
      ],
      "text/plain": [
       "   Place First_Name   Last_Name       City State  Age Gender      Time  \\\n",
       "0      1       Mike     Alberts  Melbourne    FL   34      M  18:33:06   \n",
       "1      2       Matt     Clapper        NaN   USA   41      M  19:21:53   \n",
       "2      3      Sarah  Raaymakers     Odessa    FL   39      F  20:43:19   \n",
       "\n",
       "          Full_name  \n",
       "0      Mike Alberts  \n",
       "1      Matt Clapper  \n",
       "2  Sarah Raaymakers  "
      ]
     },
     "execution_count": 24,
     "metadata": {},
     "output_type": "execute_result"
    }
   ],
   "source": [
    "data_2023.head(3)"
   ]
  },
  {
   "cell_type": "markdown",
   "metadata": {},
   "source": [
    "### 1 - Removendo colunas Nome e Sobrenome"
   ]
  },
  {
   "cell_type": "code",
   "execution_count": 26,
   "metadata": {},
   "outputs": [],
   "source": [
    "data_2024.drop(['First_Name', 'Last_Name'], axis=1, inplace=True)"
   ]
  },
  {
   "cell_type": "code",
   "execution_count": 27,
   "metadata": {},
   "outputs": [],
   "source": [
    "data_2023.drop(['First_Name', 'Last_Name'], axis=1, inplace=True)"
   ]
  },
  {
   "cell_type": "markdown",
   "metadata": {},
   "source": [
    "### 2 - Dividindo os dataset"
   ]
  },
  {
   "cell_type": "code",
   "execution_count": 31,
   "metadata": {},
   "outputs": [
    {
     "data": {
      "text/html": [
       "<div>\n",
       "<style scoped>\n",
       "    .dataframe tbody tr th:only-of-type {\n",
       "        vertical-align: middle;\n",
       "    }\n",
       "\n",
       "    .dataframe tbody tr th {\n",
       "        vertical-align: top;\n",
       "    }\n",
       "\n",
       "    .dataframe thead th {\n",
       "        text-align: right;\n",
       "    }\n",
       "</style>\n",
       "<table border=\"1\" class=\"dataframe\">\n",
       "  <thead>\n",
       "    <tr style=\"text-align: right;\">\n",
       "      <th></th>\n",
       "      <th>Place</th>\n",
       "      <th>City</th>\n",
       "      <th>State</th>\n",
       "      <th>Age</th>\n",
       "      <th>Gender</th>\n",
       "      <th>Time</th>\n",
       "      <th>Full_name</th>\n",
       "    </tr>\n",
       "  </thead>\n",
       "  <tbody>\n",
       "    <tr>\n",
       "      <th>48</th>\n",
       "      <td>0</td>\n",
       "      <td>Brooksville</td>\n",
       "      <td>FL</td>\n",
       "      <td>62</td>\n",
       "      <td>M</td>\n",
       "      <td>Did Not Finish</td>\n",
       "      <td>Andy Mathews</td>\n",
       "    </tr>\n",
       "    <tr>\n",
       "      <th>49</th>\n",
       "      <td>0</td>\n",
       "      <td>Odessa</td>\n",
       "      <td>FL</td>\n",
       "      <td>61</td>\n",
       "      <td>F</td>\n",
       "      <td>Did Not Finish</td>\n",
       "      <td>Pam Dickens</td>\n",
       "    </tr>\n",
       "    <tr>\n",
       "      <th>50</th>\n",
       "      <td>0</td>\n",
       "      <td>New Smyrna Beach</td>\n",
       "      <td>FL</td>\n",
       "      <td>61</td>\n",
       "      <td>M</td>\n",
       "      <td>Did Not Finish</td>\n",
       "      <td>Chris Goodreau</td>\n",
       "    </tr>\n",
       "  </tbody>\n",
       "</table>\n",
       "</div>"
      ],
      "text/plain": [
       "    Place              City State  Age Gender            Time       Full_name\n",
       "48      0       Brooksville    FL   62      M  Did Not Finish    Andy Mathews\n",
       "49      0            Odessa    FL   61      F  Did Not Finish     Pam Dickens\n",
       "50      0  New Smyrna Beach    FL   61      M  Did Not Finish  Chris Goodreau"
      ]
     },
     "execution_count": 31,
     "metadata": {},
     "output_type": "execute_result"
    }
   ],
   "source": [
    "# Filtrando os candidados que nao conseguiram concluir a prova\n",
    "\n",
    "data_2023[data_2023['Time'] == 'Did Not Finish'].head(3)"
   ]
  },
  {
   "cell_type": "code",
   "execution_count": 34,
   "metadata": {},
   "outputs": [],
   "source": [
    "data_2023_finishers = data_2023[data_2023['Time'] != 'Did Not Finish'].copy()"
   ]
  },
  {
   "cell_type": "code",
   "execution_count": 35,
   "metadata": {},
   "outputs": [],
   "source": [
    "data_2024_finishers = data_2024[data_2024['Time'] != 'Did Not Finish'].copy()"
   ]
  },
  {
   "cell_type": "code",
   "execution_count": 36,
   "metadata": {},
   "outputs": [],
   "source": [
    "data_2023_dnf = data_2023[data_2023['Time'] == 'Did Not Finish'].copy()"
   ]
  },
  {
   "cell_type": "code",
   "execution_count": 37,
   "metadata": {},
   "outputs": [],
   "source": [
    "data_2024_dnf = data_2024[data_2024['Time'] != 'Did Not Finish'].copy()"
   ]
  },
  {
   "cell_type": "markdown",
   "metadata": {},
   "source": [
    "### 3 - Removendo colunas dos que nao finalizaram"
   ]
  },
  {
   "cell_type": "code",
   "execution_count": 38,
   "metadata": {},
   "outputs": [],
   "source": [
    "data_2023_dnf.drop(['Place', 'Time'], axis=1, inplace=True)"
   ]
  },
  {
   "cell_type": "code",
   "execution_count": 39,
   "metadata": {},
   "outputs": [],
   "source": [
    "data_2024_dnf.drop(['Place', 'Time'], axis=1, inplace=True)"
   ]
  },
  {
   "cell_type": "code",
   "execution_count": null,
   "metadata": {},
   "outputs": [],
   "source": []
  }
 ],
 "metadata": {
  "kernelspec": {
   "display_name": "Python 3",
   "language": "python",
   "name": "python3"
  },
  "language_info": {
   "codemirror_mode": {
    "name": "ipython",
    "version": 3
   },
   "file_extension": ".py",
   "mimetype": "text/x-python",
   "name": "python",
   "nbconvert_exporter": "python",
   "pygments_lexer": "ipython3",
   "version": "3.12.8"
  }
 },
 "nbformat": 4,
 "nbformat_minor": 2
}
